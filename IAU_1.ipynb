{
 "cells": [
  {
   "cell_type": "markdown",
   "metadata": {},
   "source": [
    "## Roman Molnár a Lukáš Novota\n",
    "\n",
    "## % podiel - 50-50\n",
    "\n",
    "## dataset č.63"
   ]
  },
  {
   "cell_type": "code",
   "execution_count": 1,
   "metadata": {},
   "outputs": [],
   "source": [
    "import numpy as np\n",
    "import pandas as pd\n",
    "import seaborn as sns"
   ]
  },
  {
   "cell_type": "code",
   "execution_count": 2,
   "metadata": {},
   "outputs": [
    {
     "data": {
      "text/html": [
       "<div>\n",
       "<style scoped>\n",
       "    .dataframe tbody tr th:only-of-type {\n",
       "        vertical-align: middle;\n",
       "    }\n",
       "\n",
       "    .dataframe tbody tr th {\n",
       "        vertical-align: top;\n",
       "    }\n",
       "\n",
       "    .dataframe thead th {\n",
       "        text-align: right;\n",
       "    }\n",
       "</style>\n",
       "<table border=\"1\" class=\"dataframe\">\n",
       "  <thead>\n",
       "    <tr style=\"text-align: right;\">\n",
       "      <th></th>\n",
       "      <th>Unnamed: 0</th>\n",
       "      <th>name</th>\n",
       "      <th>address</th>\n",
       "      <th>race</th>\n",
       "      <th>marital-status</th>\n",
       "      <th>occupation</th>\n",
       "      <th>pregnant</th>\n",
       "      <th>education-num</th>\n",
       "      <th>relationship</th>\n",
       "      <th>skewness_glucose</th>\n",
       "      <th>...</th>\n",
       "      <th>education</th>\n",
       "      <th>fnlwgt</th>\n",
       "      <th>class</th>\n",
       "      <th>std_glucose</th>\n",
       "      <th>income</th>\n",
       "      <th>medical_info</th>\n",
       "      <th>native-country</th>\n",
       "      <th>hours-per-week</th>\n",
       "      <th>capital-loss</th>\n",
       "      <th>workclass</th>\n",
       "    </tr>\n",
       "  </thead>\n",
       "  <tbody>\n",
       "    <tr>\n",
       "      <th>0</th>\n",
       "      <td>0</td>\n",
       "      <td>Raymond Goode</td>\n",
       "      <td>10979 Jeffrey Trace\\r\\nThomastown, WY 01984</td>\n",
       "      <td>White</td>\n",
       "      <td>NaN</td>\n",
       "      <td>Tech-support</td>\n",
       "      <td>f</td>\n",
       "      <td>9.0</td>\n",
       "      <td>Not-in-family</td>\n",
       "      <td>-0.551845</td>\n",
       "      <td>...</td>\n",
       "      <td>NaN</td>\n",
       "      <td>NaN</td>\n",
       "      <td>0.0</td>\n",
       "      <td>52.774565</td>\n",
       "      <td>&lt;=50K</td>\n",
       "      <td>{'mean_oxygen':'2.220735786','std_oxygen':'13....</td>\n",
       "      <td>United-States</td>\n",
       "      <td>42.0</td>\n",
       "      <td>0.0</td>\n",
       "      <td>Private</td>\n",
       "    </tr>\n",
       "    <tr>\n",
       "      <th>1</th>\n",
       "      <td>1</td>\n",
       "      <td>Duane Rust</td>\n",
       "      <td>172 James Underpass\\r\\nNorth Daniel, DE 77866</td>\n",
       "      <td>White</td>\n",
       "      <td>Married-civ-spouse</td>\n",
       "      <td>Sales</td>\n",
       "      <td>f</td>\n",
       "      <td>10.0</td>\n",
       "      <td>Husband</td>\n",
       "      <td>0.742840</td>\n",
       "      <td>...</td>\n",
       "      <td>Some-college</td>\n",
       "      <td>205724.0</td>\n",
       "      <td>0.0</td>\n",
       "      <td>51.763432</td>\n",
       "      <td>&gt;50K</td>\n",
       "      <td>{'mean_oxygen':'15.67809365','std_oxygen':'50....</td>\n",
       "      <td>United-States</td>\n",
       "      <td>24.0</td>\n",
       "      <td>0.0</td>\n",
       "      <td>Private</td>\n",
       "    </tr>\n",
       "    <tr>\n",
       "      <th>2</th>\n",
       "      <td>2</td>\n",
       "      <td>Willie Flowers</td>\n",
       "      <td>403 Snow Spring Apt. 484\\r\\nJonathanview, NH 9...</td>\n",
       "      <td>White</td>\n",
       "      <td>Married-civ-spouse</td>\n",
       "      <td>Prof-specialty</td>\n",
       "      <td>f</td>\n",
       "      <td>16.0</td>\n",
       "      <td>Husband</td>\n",
       "      <td>0.618000</td>\n",
       "      <td>...</td>\n",
       "      <td>Doctorate</td>\n",
       "      <td>214627.0</td>\n",
       "      <td>1.0</td>\n",
       "      <td>46.480033</td>\n",
       "      <td>&gt;50K</td>\n",
       "      <td>{'mean_oxygen':'0.8486622070000001','std_oxyge...</td>\n",
       "      <td>United-States</td>\n",
       "      <td>60.0</td>\n",
       "      <td>0.0</td>\n",
       "      <td>Self-emp-inc</td>\n",
       "    </tr>\n",
       "    <tr>\n",
       "      <th>3</th>\n",
       "      <td>3</td>\n",
       "      <td>Joseph Brumleve</td>\n",
       "      <td>8610 Marks Stravenue Apt. 073\\r\\nNew Michael, ...</td>\n",
       "      <td>White</td>\n",
       "      <td>Divorced</td>\n",
       "      <td>Craft-repair</td>\n",
       "      <td>f</td>\n",
       "      <td>10.0</td>\n",
       "      <td>Own-child</td>\n",
       "      <td>1.716127</td>\n",
       "      <td>...</td>\n",
       "      <td>Some-college</td>\n",
       "      <td>213179.0</td>\n",
       "      <td>0.0</td>\n",
       "      <td>39.304941</td>\n",
       "      <td>&gt;50K</td>\n",
       "      <td>{'mean_oxygen':'2.877926421','std_oxygen':'18....</td>\n",
       "      <td>United-States</td>\n",
       "      <td>40.0</td>\n",
       "      <td>0.0</td>\n",
       "      <td>Private</td>\n",
       "    </tr>\n",
       "    <tr>\n",
       "      <th>4</th>\n",
       "      <td>4</td>\n",
       "      <td>James Barwick</td>\n",
       "      <td>04945 Rebecca Walks\\r\\nLake Brett, ND 86641</td>\n",
       "      <td>White</td>\n",
       "      <td>Separated</td>\n",
       "      <td>Other-service</td>\n",
       "      <td>f</td>\n",
       "      <td>4.0</td>\n",
       "      <td>Unmarried</td>\n",
       "      <td>1.183415</td>\n",
       "      <td>...</td>\n",
       "      <td>7th-8th</td>\n",
       "      <td>155701.0</td>\n",
       "      <td>0.0</td>\n",
       "      <td>39.307106</td>\n",
       "      <td>&lt;=50K</td>\n",
       "      <td>{'mean_oxygen':'1.746655518','std_oxygen':'16....</td>\n",
       "      <td>Peru</td>\n",
       "      <td>38.0</td>\n",
       "      <td>0.0</td>\n",
       "      <td>Private</td>\n",
       "    </tr>\n",
       "  </tbody>\n",
       "</table>\n",
       "<p>5 rows × 23 columns</p>\n",
       "</div>"
      ],
      "text/plain": [
       "   Unnamed: 0             name  \\\n",
       "0           0    Raymond Goode   \n",
       "1           1       Duane Rust   \n",
       "2           2   Willie Flowers   \n",
       "3           3  Joseph Brumleve   \n",
       "4           4    James Barwick   \n",
       "\n",
       "                                             address    race  \\\n",
       "0        10979 Jeffrey Trace\\r\\nThomastown, WY 01984   White   \n",
       "1      172 James Underpass\\r\\nNorth Daniel, DE 77866   White   \n",
       "2  403 Snow Spring Apt. 484\\r\\nJonathanview, NH 9...   White   \n",
       "3  8610 Marks Stravenue Apt. 073\\r\\nNew Michael, ...   White   \n",
       "4        04945 Rebecca Walks\\r\\nLake Brett, ND 86641   White   \n",
       "\n",
       "        marital-status       occupation pregnant  education-num  \\\n",
       "0                  NaN     Tech-support        f            9.0   \n",
       "1   Married-civ-spouse            Sales        f           10.0   \n",
       "2   Married-civ-spouse   Prof-specialty        f           16.0   \n",
       "3             Divorced     Craft-repair        f           10.0   \n",
       "4            Separated    Other-service        f            4.0   \n",
       "\n",
       "     relationship  skewness_glucose  ...      education    fnlwgt  class  \\\n",
       "0   Not-in-family         -0.551845  ...            NaN       NaN    0.0   \n",
       "1         Husband          0.742840  ...   Some-college  205724.0    0.0   \n",
       "2         Husband          0.618000  ...      Doctorate  214627.0    1.0   \n",
       "3       Own-child          1.716127  ...   Some-college  213179.0    0.0   \n",
       "4       Unmarried          1.183415  ...        7th-8th  155701.0    0.0   \n",
       "\n",
       "  std_glucose  income                                       medical_info  \\\n",
       "0   52.774565   <=50K  {'mean_oxygen':'2.220735786','std_oxygen':'13....   \n",
       "1   51.763432    >50K  {'mean_oxygen':'15.67809365','std_oxygen':'50....   \n",
       "2   46.480033    >50K  {'mean_oxygen':'0.8486622070000001','std_oxyge...   \n",
       "3   39.304941    >50K  {'mean_oxygen':'2.877926421','std_oxygen':'18....   \n",
       "4   39.307106   <=50K  {'mean_oxygen':'1.746655518','std_oxygen':'16....   \n",
       "\n",
       "   native-country hours-per-week capital-loss      workclass  \n",
       "0   United-States           42.0          0.0        Private  \n",
       "1   United-States           24.0          0.0        Private  \n",
       "2   United-States           60.0          0.0   Self-emp-inc  \n",
       "3   United-States           40.0          0.0        Private  \n",
       "4            Peru           38.0          0.0        Private  \n",
       "\n",
       "[5 rows x 23 columns]"
      ]
     },
     "execution_count": 2,
     "metadata": {},
     "output_type": "execute_result"
    }
   ],
   "source": [
    "filename1 = \"63/other_train.csv\"\n",
    "df1 = pd.read_csv(filename1, sep=',')\n",
    "df1.head()"
   ]
  },
  {
   "cell_type": "code",
   "execution_count": 3,
   "metadata": {},
   "outputs": [
    {
     "data": {
      "text/html": [
       "<div>\n",
       "<style scoped>\n",
       "    .dataframe tbody tr th:only-of-type {\n",
       "        vertical-align: middle;\n",
       "    }\n",
       "\n",
       "    .dataframe tbody tr th {\n",
       "        vertical-align: top;\n",
       "    }\n",
       "\n",
       "    .dataframe thead th {\n",
       "        text-align: right;\n",
       "    }\n",
       "</style>\n",
       "<table border=\"1\" class=\"dataframe\">\n",
       "  <thead>\n",
       "    <tr style=\"text-align: right;\">\n",
       "      <th></th>\n",
       "      <th>Unnamed: 0</th>\n",
       "      <th>name</th>\n",
       "      <th>address</th>\n",
       "      <th>age</th>\n",
       "      <th>sex</th>\n",
       "      <th>date_of_birth</th>\n",
       "    </tr>\n",
       "  </thead>\n",
       "  <tbody>\n",
       "    <tr>\n",
       "      <th>0</th>\n",
       "      <td>0</td>\n",
       "      <td>Roscoe Bohannon</td>\n",
       "      <td>7183 Osborne Ways Apt. 651\\r\\nEast Andrew, OH ...</td>\n",
       "      <td>44</td>\n",
       "      <td>Male</td>\n",
       "      <td>1975-10-14</td>\n",
       "    </tr>\n",
       "    <tr>\n",
       "      <th>1</th>\n",
       "      <td>1</td>\n",
       "      <td>Ernest Kline</td>\n",
       "      <td>391 Ball Road Suite 961\\r\\nFlowersborough, IN ...</td>\n",
       "      <td>51</td>\n",
       "      <td>male</td>\n",
       "      <td>68-08-01</td>\n",
       "    </tr>\n",
       "    <tr>\n",
       "      <th>2</th>\n",
       "      <td>2</td>\n",
       "      <td>Harold Hendriks</td>\n",
       "      <td>8702 Vincent Square\\r\\nNew Jerryfurt, CO 30614</td>\n",
       "      <td>53</td>\n",
       "      <td>Male</td>\n",
       "      <td>1966-08-13</td>\n",
       "    </tr>\n",
       "    <tr>\n",
       "      <th>3</th>\n",
       "      <td>3</td>\n",
       "      <td>Randy Baptiste</td>\n",
       "      <td>2751 Harris Crossroad\\r\\nWest Ashley, CA 30311</td>\n",
       "      <td>53</td>\n",
       "      <td>Male</td>\n",
       "      <td>1966-04-08 00 00 00</td>\n",
       "    </tr>\n",
       "    <tr>\n",
       "      <th>4</th>\n",
       "      <td>4</td>\n",
       "      <td>Anthony Colucci</td>\n",
       "      <td>904 Robert Cliffs Suite 186\\r\\nWest Kyle, CO 7...</td>\n",
       "      <td>66</td>\n",
       "      <td>Female</td>\n",
       "      <td>1953-02-19</td>\n",
       "    </tr>\n",
       "  </tbody>\n",
       "</table>\n",
       "</div>"
      ],
      "text/plain": [
       "   Unnamed: 0             name  \\\n",
       "0           0  Roscoe Bohannon   \n",
       "1           1     Ernest Kline   \n",
       "2           2  Harold Hendriks   \n",
       "3           3   Randy Baptiste   \n",
       "4           4  Anthony Colucci   \n",
       "\n",
       "                                             address age      sex  \\\n",
       "0  7183 Osborne Ways Apt. 651\\r\\nEast Andrew, OH ...  44     Male   \n",
       "1  391 Ball Road Suite 961\\r\\nFlowersborough, IN ...  51     male   \n",
       "2     8702 Vincent Square\\r\\nNew Jerryfurt, CO 30614  53     Male   \n",
       "3     2751 Harris Crossroad\\r\\nWest Ashley, CA 30311  53     Male   \n",
       "4  904 Robert Cliffs Suite 186\\r\\nWest Kyle, CO 7...  66   Female   \n",
       "\n",
       "         date_of_birth  \n",
       "0           1975-10-14  \n",
       "1             68-08-01  \n",
       "2           1966-08-13  \n",
       "3  1966-04-08 00 00 00  \n",
       "4           1953-02-19  "
      ]
     },
     "execution_count": 3,
     "metadata": {},
     "output_type": "execute_result"
    }
   ],
   "source": [
    "filename2 = \"63/personal_train.csv\"\n",
    "df2 = pd.read_csv(filename2, sep=',')\n",
    "df2.head()\n",
    "#v oboch datasetoch si hned vsimneme zbytocny prvy stlpec, ktory by asi mal znamenat nejake poradove cislo, \n",
    "#kedze ale mame poradove cislo kazdeho zaznamu mozeme ho odstranit"
   ]
  },
  {
   "cell_type": "code",
   "execution_count": 7,
   "metadata": {},
   "outputs": [
    {
     "data": {
      "text/html": [
       "<div>\n",
       "<style scoped>\n",
       "    .dataframe tbody tr th:only-of-type {\n",
       "        vertical-align: middle;\n",
       "    }\n",
       "\n",
       "    .dataframe tbody tr th {\n",
       "        vertical-align: top;\n",
       "    }\n",
       "\n",
       "    .dataframe thead th {\n",
       "        text-align: right;\n",
       "    }\n",
       "</style>\n",
       "<table border=\"1\" class=\"dataframe\">\n",
       "  <thead>\n",
       "    <tr style=\"text-align: right;\">\n",
       "      <th></th>\n",
       "      <th>Unnamed: 0</th>\n",
       "    </tr>\n",
       "  </thead>\n",
       "  <tbody>\n",
       "    <tr>\n",
       "      <th>count</th>\n",
       "      <td>3933.000000</td>\n",
       "    </tr>\n",
       "    <tr>\n",
       "      <th>mean</th>\n",
       "      <td>1966.000000</td>\n",
       "    </tr>\n",
       "    <tr>\n",
       "      <th>std</th>\n",
       "      <td>1135.503633</td>\n",
       "    </tr>\n",
       "    <tr>\n",
       "      <th>min</th>\n",
       "      <td>0.000000</td>\n",
       "    </tr>\n",
       "    <tr>\n",
       "      <th>25%</th>\n",
       "      <td>983.000000</td>\n",
       "    </tr>\n",
       "    <tr>\n",
       "      <th>50%</th>\n",
       "      <td>1966.000000</td>\n",
       "    </tr>\n",
       "    <tr>\n",
       "      <th>75%</th>\n",
       "      <td>2949.000000</td>\n",
       "    </tr>\n",
       "    <tr>\n",
       "      <th>max</th>\n",
       "      <td>3932.000000</td>\n",
       "    </tr>\n",
       "  </tbody>\n",
       "</table>\n",
       "</div>"
      ],
      "text/plain": [
       "        Unnamed: 0\n",
       "count  3933.000000\n",
       "mean   1966.000000\n",
       "std    1135.503633\n",
       "min       0.000000\n",
       "25%     983.000000\n",
       "50%    1966.000000\n",
       "75%    2949.000000\n",
       "max    3932.000000"
      ]
     },
     "execution_count": 7,
     "metadata": {},
     "output_type": "execute_result"
    }
   ],
   "source": [
    "df2.describe()"
   ]
  },
  {
   "cell_type": "code",
   "execution_count": 15,
   "metadata": {
    "scrolled": true
   },
   "outputs": [
    {
     "name": "stdout",
     "output_type": "stream",
     "text": [
      "<class 'pandas.core.frame.DataFrame'>\n",
      "RangeIndex: 3983 entries, 0 to 3982\n",
      "Data columns (total 23 columns):\n",
      " #   Column            Non-Null Count  Dtype  \n",
      "---  ------            --------------  -----  \n",
      " 0   Unnamed: 0        3983 non-null   int64  \n",
      " 1   name              3983 non-null   object \n",
      " 2   address           3983 non-null   object \n",
      " 3   race              3972 non-null   object \n",
      " 4   marital-status    3970 non-null   object \n",
      " 5   occupation        3978 non-null   object \n",
      " 6   pregnant          3971 non-null   object \n",
      " 7   education-num     3964 non-null   float64\n",
      " 8   relationship      3970 non-null   object \n",
      " 9   skewness_glucose  3973 non-null   float64\n",
      " 10  mean_glucose      3573 non-null   float64\n",
      " 11  capital-gain      3967 non-null   float64\n",
      " 12  kurtosis_glucose  3960 non-null   float64\n",
      " 13  education         3968 non-null   object \n",
      " 14  fnlwgt            3965 non-null   float64\n",
      " 15  class             3968 non-null   float64\n",
      " 16  std_glucose       3971 non-null   float64\n",
      " 17  income            3969 non-null   object \n",
      " 18  medical_info      3970 non-null   object \n",
      " 19  native-country    3967 non-null   object \n",
      " 20  hours-per-week    3970 non-null   float64\n",
      " 21  capital-loss      3968 non-null   float64\n",
      " 22  workclass         3966 non-null   object \n",
      "dtypes: float64(10), int64(1), object(12)\n",
      "memory usage: 715.8+ KB\n"
     ]
    }
   ],
   "source": [
    "df1.info()\n",
    "#mozeme vididet pocet vstupov - 3983, pocet atributov - 22 a aj ich typy\n",
    "#pocet vstupov v tomto datasete nesedi s poctom v druhom - skontrolujeme duplikaty"
   ]
  },
  {
   "cell_type": "code",
   "execution_count": 16,
   "metadata": {
    "scrolled": true
   },
   "outputs": [
    {
     "name": "stdout",
     "output_type": "stream",
     "text": [
      "<class 'pandas.core.frame.DataFrame'>\n",
      "RangeIndex: 3933 entries, 0 to 3932\n",
      "Data columns (total 6 columns):\n",
      " #   Column         Non-Null Count  Dtype \n",
      "---  ------         --------------  ----- \n",
      " 0   Unnamed: 0     3933 non-null   int64 \n",
      " 1   name           3933 non-null   object\n",
      " 2   address        3933 non-null   object\n",
      " 3   age            3681 non-null   object\n",
      " 4   sex            3933 non-null   object\n",
      " 5   date_of_birth  3933 non-null   object\n",
      "dtypes: int64(1), object(5)\n",
      "memory usage: 184.5+ KB\n"
     ]
    }
   ],
   "source": [
    "df2.info()\n",
    "#mozeme vididet pocet vstupov - 3933, pocet atributov - 5 a aj ich typy\n",
    "#mozme si vsimnut aj to, ze atribut age, ktory by sme ocakavali, ze by bol reprezentovany ciselnou hodnotou je typu objekt - najskor chybne data"
   ]
  },
  {
   "cell_type": "code",
   "execution_count": 17,
   "metadata": {},
   "outputs": [
    {
     "data": {
      "text/plain": [
       "Unnamed: 0            0\n",
       "name                  0\n",
       "address               0\n",
       "race                 11\n",
       "marital-status       13\n",
       "occupation            5\n",
       "pregnant             12\n",
       "education-num        19\n",
       "relationship         13\n",
       "skewness_glucose     10\n",
       "mean_glucose        410\n",
       "capital-gain         16\n",
       "kurtosis_glucose     23\n",
       "education            15\n",
       "fnlwgt               18\n",
       "class                15\n",
       "std_glucose          12\n",
       "income               14\n",
       "medical_info         13\n",
       "native-country       16\n",
       "hours-per-week       13\n",
       "capital-loss         15\n",
       "workclass            17\n",
       "dtype: int64"
      ]
     },
     "execution_count": 17,
     "metadata": {},
     "output_type": "execute_result"
    }
   ],
   "source": [
    "df1.isnull().sum()\n",
    "#chyby v datach mozu byt sposobene ja chybajucimi datami - vo vacsine pripadov to nie je vysoke mnozstvo az na atribut \n",
    "#mean-glucose, kde chyba vyse 10% hodnot"
   ]
  },
  {
   "cell_type": "code",
   "execution_count": 18,
   "metadata": {},
   "outputs": [
    {
     "data": {
      "text/plain": [
       "Unnamed: 0         0\n",
       "name               0\n",
       "address            0\n",
       "age              252\n",
       "sex                0\n",
       "date_of_birth      0\n",
       "dtype: int64"
      ]
     },
     "execution_count": 18,
     "metadata": {},
     "output_type": "execute_result"
    }
   ],
   "source": [
    "df2.isnull().sum()\n",
    "#rovnako aj tu v atribute age chyba odst velke mnozstvo dat\n",
    "#chybajuci vek mozeme dopocitat z datumu narodenia"
   ]
  },
  {
   "cell_type": "code",
   "execution_count": 27,
   "metadata": {},
   "outputs": [
    {
     "data": {
      "text/plain": [
       "array([nan, ' Married-civ-spouse', ' Divorced', ' Separated',\n",
       "       ' Never-married', ' Widowed', ' Married-spouse-absent',\n",
       "       ' Married-AF-spouse'], dtype=object)"
      ]
     },
     "execution_count": 27,
     "metadata": {},
     "output_type": "execute_result"
    }
   ],
   "source": [
    "df1['marital-status'].unique()\n",
    "#hodnoty vyzeraju dobre"
   ]
  },
  {
   "cell_type": "code",
   "execution_count": 41,
   "metadata": {},
   "outputs": [
    {
     "data": {
      "text/plain": [
       "array(['f', 'FALSE', 'F', 't', nan, 'TRUE', 'T'], dtype=object)"
      ]
     },
     "execution_count": 41,
     "metadata": {},
     "output_type": "execute_result"
    }
   ],
   "source": [
    "df1['pregnant'].unique()\n",
    "#vela hodnot na to ze clovek by ocakaval len 2 hodnoty\n",
    "#tu upravime hodnoty, aby mohli mat len 2 hodnoty, a v pripade nan sa mozeme pozriet na pohlavie"
   ]
  },
  {
   "cell_type": "code",
   "execution_count": 28,
   "metadata": {},
   "outputs": [
    {
     "data": {
      "text/plain": [
       "array([' Not-in-family', ' Husband', ' Own-child', ' Unmarried', ' Wife',\n",
       "       ' Other-relative', nan], dtype=object)"
      ]
     },
     "execution_count": 28,
     "metadata": {},
     "output_type": "execute_result"
    }
   ],
   "source": [
    "df1['relationship'].unique()\n",
    "#hodnoty vyzeraju dobre"
   ]
  },
  {
   "cell_type": "code",
   "execution_count": 29,
   "metadata": {},
   "outputs": [
    {
     "data": {
      "text/html": [
       "<div>\n",
       "<style scoped>\n",
       "    .dataframe tbody tr th:only-of-type {\n",
       "        vertical-align: middle;\n",
       "    }\n",
       "\n",
       "    .dataframe tbody tr th {\n",
       "        vertical-align: top;\n",
       "    }\n",
       "\n",
       "    .dataframe thead th {\n",
       "        text-align: right;\n",
       "    }\n",
       "</style>\n",
       "<table border=\"1\" class=\"dataframe\">\n",
       "  <thead>\n",
       "    <tr style=\"text-align: right;\">\n",
       "      <th></th>\n",
       "      <th>Unnamed: 0</th>\n",
       "      <th>name</th>\n",
       "      <th>address</th>\n",
       "      <th>race</th>\n",
       "      <th>marital-status</th>\n",
       "      <th>occupation</th>\n",
       "      <th>pregnant</th>\n",
       "      <th>education-num</th>\n",
       "      <th>skewness_glucose</th>\n",
       "      <th>mean_glucose</th>\n",
       "      <th>...</th>\n",
       "      <th>education</th>\n",
       "      <th>fnlwgt</th>\n",
       "      <th>class</th>\n",
       "      <th>std_glucose</th>\n",
       "      <th>income</th>\n",
       "      <th>medical_info</th>\n",
       "      <th>native-country</th>\n",
       "      <th>hours-per-week</th>\n",
       "      <th>capital-loss</th>\n",
       "      <th>workclass</th>\n",
       "    </tr>\n",
       "    <tr>\n",
       "      <th>relationship</th>\n",
       "      <th></th>\n",
       "      <th></th>\n",
       "      <th></th>\n",
       "      <th></th>\n",
       "      <th></th>\n",
       "      <th></th>\n",
       "      <th></th>\n",
       "      <th></th>\n",
       "      <th></th>\n",
       "      <th></th>\n",
       "      <th></th>\n",
       "      <th></th>\n",
       "      <th></th>\n",
       "      <th></th>\n",
       "      <th></th>\n",
       "      <th></th>\n",
       "      <th></th>\n",
       "      <th></th>\n",
       "      <th></th>\n",
       "      <th></th>\n",
       "      <th></th>\n",
       "    </tr>\n",
       "  </thead>\n",
       "  <tbody>\n",
       "    <tr>\n",
       "      <th>Husband</th>\n",
       "      <td>1631</td>\n",
       "      <td>1631</td>\n",
       "      <td>1631</td>\n",
       "      <td>1628</td>\n",
       "      <td>1626</td>\n",
       "      <td>1630</td>\n",
       "      <td>1628</td>\n",
       "      <td>1623</td>\n",
       "      <td>1625</td>\n",
       "      <td>1462</td>\n",
       "      <td>...</td>\n",
       "      <td>1626</td>\n",
       "      <td>1622</td>\n",
       "      <td>1624</td>\n",
       "      <td>1628</td>\n",
       "      <td>1628</td>\n",
       "      <td>1631</td>\n",
       "      <td>1623</td>\n",
       "      <td>1628</td>\n",
       "      <td>1626</td>\n",
       "      <td>1628</td>\n",
       "    </tr>\n",
       "    <tr>\n",
       "      <th>Not-in-family</th>\n",
       "      <td>990</td>\n",
       "      <td>990</td>\n",
       "      <td>990</td>\n",
       "      <td>988</td>\n",
       "      <td>986</td>\n",
       "      <td>990</td>\n",
       "      <td>987</td>\n",
       "      <td>987</td>\n",
       "      <td>988</td>\n",
       "      <td>897</td>\n",
       "      <td>...</td>\n",
       "      <td>988</td>\n",
       "      <td>986</td>\n",
       "      <td>989</td>\n",
       "      <td>987</td>\n",
       "      <td>985</td>\n",
       "      <td>986</td>\n",
       "      <td>987</td>\n",
       "      <td>984</td>\n",
       "      <td>985</td>\n",
       "      <td>987</td>\n",
       "    </tr>\n",
       "    <tr>\n",
       "      <th>Other-relative</th>\n",
       "      <td>103</td>\n",
       "      <td>103</td>\n",
       "      <td>103</td>\n",
       "      <td>103</td>\n",
       "      <td>103</td>\n",
       "      <td>103</td>\n",
       "      <td>103</td>\n",
       "      <td>103</td>\n",
       "      <td>103</td>\n",
       "      <td>92</td>\n",
       "      <td>...</td>\n",
       "      <td>103</td>\n",
       "      <td>103</td>\n",
       "      <td>103</td>\n",
       "      <td>103</td>\n",
       "      <td>103</td>\n",
       "      <td>103</td>\n",
       "      <td>103</td>\n",
       "      <td>103</td>\n",
       "      <td>103</td>\n",
       "      <td>103</td>\n",
       "    </tr>\n",
       "    <tr>\n",
       "      <th>Own-child</th>\n",
       "      <td>627</td>\n",
       "      <td>627</td>\n",
       "      <td>627</td>\n",
       "      <td>624</td>\n",
       "      <td>625</td>\n",
       "      <td>625</td>\n",
       "      <td>624</td>\n",
       "      <td>625</td>\n",
       "      <td>627</td>\n",
       "      <td>556</td>\n",
       "      <td>...</td>\n",
       "      <td>625</td>\n",
       "      <td>625</td>\n",
       "      <td>626</td>\n",
       "      <td>626</td>\n",
       "      <td>626</td>\n",
       "      <td>623</td>\n",
       "      <td>624</td>\n",
       "      <td>626</td>\n",
       "      <td>626</td>\n",
       "      <td>625</td>\n",
       "    </tr>\n",
       "    <tr>\n",
       "      <th>Unmarried</th>\n",
       "      <td>432</td>\n",
       "      <td>432</td>\n",
       "      <td>432</td>\n",
       "      <td>431</td>\n",
       "      <td>432</td>\n",
       "      <td>430</td>\n",
       "      <td>431</td>\n",
       "      <td>427</td>\n",
       "      <td>430</td>\n",
       "      <td>391</td>\n",
       "      <td>...</td>\n",
       "      <td>429</td>\n",
       "      <td>431</td>\n",
       "      <td>428</td>\n",
       "      <td>429</td>\n",
       "      <td>430</td>\n",
       "      <td>430</td>\n",
       "      <td>432</td>\n",
       "      <td>430</td>\n",
       "      <td>431</td>\n",
       "      <td>428</td>\n",
       "    </tr>\n",
       "    <tr>\n",
       "      <th>Wife</th>\n",
       "      <td>187</td>\n",
       "      <td>187</td>\n",
       "      <td>187</td>\n",
       "      <td>187</td>\n",
       "      <td>187</td>\n",
       "      <td>187</td>\n",
       "      <td>187</td>\n",
       "      <td>187</td>\n",
       "      <td>187</td>\n",
       "      <td>165</td>\n",
       "      <td>...</td>\n",
       "      <td>187</td>\n",
       "      <td>186</td>\n",
       "      <td>187</td>\n",
       "      <td>186</td>\n",
       "      <td>186</td>\n",
       "      <td>186</td>\n",
       "      <td>187</td>\n",
       "      <td>187</td>\n",
       "      <td>187</td>\n",
       "      <td>187</td>\n",
       "    </tr>\n",
       "  </tbody>\n",
       "</table>\n",
       "<p>6 rows × 22 columns</p>\n",
       "</div>"
      ],
      "text/plain": [
       "                 Unnamed: 0  name  address  race  marital-status  occupation  \\\n",
       "relationship                                                                   \n",
       " Husband               1631  1631     1631  1628            1626        1630   \n",
       " Not-in-family          990   990      990   988             986         990   \n",
       " Other-relative         103   103      103   103             103         103   \n",
       " Own-child              627   627      627   624             625         625   \n",
       " Unmarried              432   432      432   431             432         430   \n",
       " Wife                   187   187      187   187             187         187   \n",
       "\n",
       "                 pregnant  education-num  skewness_glucose  mean_glucose  ...  \\\n",
       "relationship                                                              ...   \n",
       " Husband             1628           1623              1625          1462  ...   \n",
       " Not-in-family        987            987               988           897  ...   \n",
       " Other-relative       103            103               103            92  ...   \n",
       " Own-child            624            625               627           556  ...   \n",
       " Unmarried            431            427               430           391  ...   \n",
       " Wife                 187            187               187           165  ...   \n",
       "\n",
       "                 education  fnlwgt  class  std_glucose  income  medical_info  \\\n",
       "relationship                                                                   \n",
       " Husband              1626    1622   1624         1628    1628          1631   \n",
       " Not-in-family         988     986    989          987     985           986   \n",
       " Other-relative        103     103    103          103     103           103   \n",
       " Own-child             625     625    626          626     626           623   \n",
       " Unmarried             429     431    428          429     430           430   \n",
       " Wife                  187     186    187          186     186           186   \n",
       "\n",
       "                 native-country  hours-per-week  capital-loss  workclass  \n",
       "relationship                                                              \n",
       " Husband                   1623            1628          1626       1628  \n",
       " Not-in-family              987             984           985        987  \n",
       " Other-relative             103             103           103        103  \n",
       " Own-child                  624             626           626        625  \n",
       " Unmarried                  432             430           431        428  \n",
       " Wife                       187             187           187        187  \n",
       "\n",
       "[6 rows x 22 columns]"
      ]
     },
     "execution_count": 29,
     "metadata": {},
     "output_type": "execute_result"
    }
   ],
   "source": [
    "df1.groupby('relationship').count()"
   ]
  },
  {
   "cell_type": "code",
   "execution_count": 35,
   "metadata": {},
   "outputs": [
    {
     "data": {
      "text/plain": [
       "array([' Male', 'male', ' Female', 'female'], dtype=object)"
      ]
     },
     "execution_count": 35,
     "metadata": {},
     "output_type": "execute_result"
    }
   ],
   "source": [
    "df2['sex'].unique()\n",
    "#tu vidime zbytocne rozdelenie kvoli velkym a malym pismenam\n",
    "#tiez odstranime zbytocne viacere hodnoty female aj male bude napisane rovnako"
   ]
  },
  {
   "cell_type": "code",
   "execution_count": 9,
   "metadata": {},
   "outputs": [
    {
     "data": {
      "text/plain": [
       "array(['44', '51', '53', '66', '80', '61', '41', '48', '40', '52', '73',\n",
       "       nan, '59', '-5600', '4000', '??', '60', '4500', '62', '70', '64',\n",
       "       '-5900', '55', '50', '35', '43', '-4500', '45', '57', '27', '-1',\n",
       "       '69', '34', '75', '63', '56', '58', '7800', '39', '33', '47', '65',\n",
       "       '22', '54', '19', '3500', '2400', '67', '49', '-2500', '-7100',\n",
       "       '38', '46', '-7300', '3700', '37', '68', '32', '81', '5000', '79',\n",
       "       '90', '36', '77', '3200', '-6600', '7100', '42', '-3000', '78',\n",
       "       '-3900', '23', '-2600', '9', '-3500', '16', '-4100', '5400', '29',\n",
       "       '-4300', '31', '17', '4800', '-4900', '-9700', '20', '-4600',\n",
       "       '-5700', '-5800', '71',\n",
       "       '????????????????????????????????????????????????????????????????????????????????????????????????????????????????????????????????????????????????????????????????????????????????????????????????????????',\n",
       "       '113', '-5200', '74', '-5400', '-6400', '24', '-5300', '30', '76',\n",
       "       '-6100', '4300', '-7000', '6600', '-4400', '4100', '14', '87',\n",
       "       '-3400', '6000', '21', '-5100', '26', '5200', '83', '3300', '6100',\n",
       "       'nannannannannannannannannannannannannannannannannannannannannannannannannannannannannannannannannannannannannannannannannannannannannannannannannannannannannannannannannannannannannannannannannannannannannannannannannannannannannannannannannannannannannannannannannannannannannannannannannannannannan',\n",
       "       '6800', '5100', '84', '4200', '4700', '5600', '3900', '2900',\n",
       "       '-6200', '6200', '5500', '99', '28', '86', '-8200', '5300', '72',\n",
       "       '4900', '3600', '25', '5900', '18', '-3700', '-3800', '-4000',\n",
       "       '3000', '2700', '-6300', '7600', '-4700', '-7400', '-6000', '82',\n",
       "       '5800', '6500', '4600', '7000', '5700', '-6500', '-5500', '12',\n",
       "       '-7600', '7200', '6900', '-8100', '-3100', '93', '-4200', '4400',\n",
       "       '2800', '7500', '85', '-2300', '3', '6300', '-4800', '-5000',\n",
       "       '-6800', '-7500', '3100', '8600', '3400', '-3600', '-3300', '7400',\n",
       "       '-2400', '-2700', '-7800'], dtype=object)"
      ]
     },
     "execution_count": 9,
     "metadata": {},
     "output_type": "execute_result"
    }
   ],
   "source": [
    "df2['age'].unique()\n",
    "#mozme vidiet vela roznych hodnot, pricom vela z nich nedava ziadny zmysel - zaporne cisla a cisla vyse 1000, rovnako aj \n",
    "#dlhe retazce, ktore by mali asi reprezentovat chybajuce data\n",
    "#kedze v pripade datumov narodenia nechybaju hodnoty mozme ich tu dopocitat, kedze v mnohych pripadoch nedavaju zmysel"
   ]
  },
  {
   "cell_type": "code",
   "execution_count": 12,
   "metadata": {},
   "outputs": [
    {
     "data": {
      "text/plain": [
       "0                1975-10-14\n",
       "1                  68-08-01\n",
       "2                1966-08-13\n",
       "3       1966-04-08 00 00 00\n",
       "4                1953-02-19\n",
       "               ...         \n",
       "3928    1964-06-21 00 00 00\n",
       "3929    1986-02-09 00:00:00\n",
       "3930             1960-09-04\n",
       "3931             04/09/1965\n",
       "3932             1976-01-20\n",
       "Name: date_of_birth, Length: 3933, dtype: object"
      ]
     },
     "execution_count": 12,
     "metadata": {},
     "output_type": "execute_result"
    }
   ],
   "source": [
    "df2['date_of_birth']\n",
    "#tu uz na par konkretnych pripadoch vidime, ze takmer kazdy datum ma odlisny typ zapisu\n",
    "#bude potrebne upravit datumy na rovnaky typ zapisu - YYYY-MM-DD"
   ]
  },
  {
   "cell_type": "code",
   "execution_count": 16,
   "metadata": {},
   "outputs": [
    {
     "data": {
      "text/plain": [
       "0             10979 Jeffrey Trace\\r\\nThomastown, WY 01984\n",
       "1           172 James Underpass\\r\\nNorth Daniel, DE 77866\n",
       "2       403 Snow Spring Apt. 484\\r\\nJonathanview, NH 9...\n",
       "3       8610 Marks Stravenue Apt. 073\\r\\nNew Michael, ...\n",
       "4             04945 Rebecca Walks\\r\\nLake Brett, ND 86641\n",
       "                              ...                        \n",
       "3978     9874 Sanchez Corner\\r\\nPort Javierbury, CA 90755\n",
       "3979    0896 Samantha Hill Apt. 342\\r\\nAmandafort, CA ...\n",
       "3980              223 Meyer Trace\\r\\nRachelview, NE 65834\n",
       "3981                   Unit 0536 Box 1509\\r\\nDPO AA 59094\n",
       "3982      7115 Snyder Key Apt. 041\\r\\nWest Tina, DE 78012\n",
       "Name: address, Length: 3983, dtype: object"
      ]
     },
     "execution_count": 16,
     "metadata": {},
     "output_type": "execute_result"
    }
   ],
   "source": [
    "df1['address']"
   ]
  },
  {
   "cell_type": "code",
   "execution_count": 17,
   "metadata": {},
   "outputs": [
    {
     "data": {
      "text/plain": [
       "0       7183 Osborne Ways Apt. 651\\r\\nEast Andrew, OH ...\n",
       "1       391 Ball Road Suite 961\\r\\nFlowersborough, IN ...\n",
       "2          8702 Vincent Square\\r\\nNew Jerryfurt, CO 30614\n",
       "3          2751 Harris Crossroad\\r\\nWest Ashley, CA 30311\n",
       "4       904 Robert Cliffs Suite 186\\r\\nWest Kyle, CO 7...\n",
       "                              ...                        \n",
       "3928               8582 Lee Roads\\r\\nCostaburgh, SC 21897\n",
       "3929    68430 Erik Terrace Suite 279\\r\\nPort Adamborou...\n",
       "3930                   Unit 8416 Box 3801\\r\\nDPO AE 31166\n",
       "3931     34420 Brian Stream\\r\\nLake Michaeltown, MS 01832\n",
       "3932                   Unit 7931 Box 0601\\r\\nDPO AE 50505\n",
       "Name: address, Length: 3933, dtype: object"
      ]
     },
     "execution_count": 17,
     "metadata": {},
     "output_type": "execute_result"
    }
   ],
   "source": [
    "df2['address']\n",
    "#v oboch pripadoch vidime ze uprostred adresy medzi ulicou sa mestom sa nachadza \\r\\n - novy riadok, chybny zapis\n",
    "#dane \\r\\n odstranime, aby pri naslednom zapise dat nevzikali zbytocne nove riadky"
   ]
  },
  {
   "cell_type": "code",
   "execution_count": 21,
   "metadata": {},
   "outputs": [
    {
     "data": {
      "text/plain": [
       "0       {'mean_oxygen':'2.220735786','std_oxygen':'13....\n",
       "1       {'mean_oxygen':'15.67809365','std_oxygen':'50....\n",
       "2       {'mean_oxygen':'0.8486622070000001','std_oxyge...\n",
       "3       {'mean_oxygen':'2.877926421','std_oxygen':'18....\n",
       "4       {'mean_oxygen':'1.746655518','std_oxygen':'16....\n",
       "                              ...                        \n",
       "3978    {'mean_oxygen':'1.883779264','std_oxygen':'15....\n",
       "3979    {'mean_oxygen':'6.010033445','std_oxygen':'30....\n",
       "3980    {'mean_oxygen':'146.75','std_oxygen':'65.58762...\n",
       "3981    {'mean_oxygen':'2.256688963','std_oxygen':'12....\n",
       "3982    {'mean_oxygen':'3.413879599','std_oxygen':'25....\n",
       "Name: medical_info, Length: 3983, dtype: object"
      ]
     },
     "execution_count": 21,
     "metadata": {},
     "output_type": "execute_result"
    }
   ],
   "source": [
    "df1['medical_info']\n",
    "#zdravotne hodnoty obsahuju informacie o kysliku pacienta, ale maju zly tvar\n",
    "#dane hodnoty rozhadzeme do samostatnych stlpcov, z ktorych bude mozne s nimi dalej pracovat"
   ]
  },
  {
   "cell_type": "code",
   "execution_count": 22,
   "metadata": {},
   "outputs": [
    {
     "data": {
      "text/plain": [
       "\"{'mean_oxygen':'2.220735786','std_oxygen':'13.20426497','kurtosis_oxygen':'9.953692104','skewness_oxygen':'139.46687230000003'}\""
      ]
     },
     "execution_count": 22,
     "metadata": {},
     "output_type": "execute_result"
    }
   ],
   "source": [
    "df1['medical_info'][0]\n",
    "#tu vidime, ze medical_info obsahuje rovnake informacie o kysliku ake su informacie o glukoze, akurat su vsetky spojene\n",
    "#do jedneho pola, a v takomto pripade je narocne s tymito informaciami dalej pracovat"
   ]
  },
  {
   "cell_type": "code",
   "execution_count": 44,
   "metadata": {},
   "outputs": [
    {
     "data": {
      "text/plain": [
       "array([[<AxesSubplot:title={'center':'Unnamed: 0'}>,\n",
       "        <AxesSubplot:title={'center':'education-num'}>,\n",
       "        <AxesSubplot:title={'center':'skewness_glucose'}>],\n",
       "       [<AxesSubplot:title={'center':'mean_glucose'}>,\n",
       "        <AxesSubplot:title={'center':'capital-gain'}>,\n",
       "        <AxesSubplot:title={'center':'kurtosis_glucose'}>],\n",
       "       [<AxesSubplot:title={'center':'fnlwgt'}>,\n",
       "        <AxesSubplot:title={'center':'class'}>,\n",
       "        <AxesSubplot:title={'center':'std_glucose'}>],\n",
       "       [<AxesSubplot:title={'center':'hours-per-week'}>,\n",
       "        <AxesSubplot:title={'center':'capital-loss'}>, <AxesSubplot:>]],\n",
       "      dtype=object)"
      ]
     },
     "execution_count": 44,
     "metadata": {},
     "output_type": "execute_result"
    },
    {
     "data": {
      "image/png": "[encoded data removed]",
      "text/plain": [
       "<Figure size 432x288 with 12 Axes>"
      ]
     },
     "metadata": {
      "needs_background": "light"
     },
     "output_type": "display_data"
    }
   ],
   "source": [
    "df1.hist()"
   ]
  },
  {
   "cell_type": "code",
   "execution_count": 45,
   "metadata": {},
   "outputs": [
    {
     "data": {
      "text/plain": [
       "<AxesSubplot:>"
      ]
     },
     "execution_count": 45,
     "metadata": {},
     "output_type": "execute_result"
    },
    {
     "data": {
      "image/png": "[encoded data removed]",
      "text/plain": [
       "<Figure size 432x288 with 1 Axes>"
      ]
     },
     "metadata": {
      "needs_background": "light"
     },
     "output_type": "display_data"
    }
   ],
   "source": [
    "df1['education-num'].hist()"
   ]
  },
  {
   "cell_type": "code",
   "execution_count": 56,
   "metadata": {
    "scrolled": true
   },
   "outputs": [
    {
     "data": {
      "text/plain": [
       "<AxesSubplot:>"
      ]
     },
     "execution_count": 56,
     "metadata": {},
     "output_type": "execute_result"
    },
    {
     "data": {
      "image/png": "[encoded data removed]",
      "text/plain": [
       "<Figure size 432x288 with 1 Axes>"
      ]
     },
     "metadata": {
      "needs_background": "light"
     },
     "output_type": "display_data"
    }
   ],
   "source": [
    "df1['skewness_glucose'].hist()"
   ]
  },
  {
   "cell_type": "code",
   "execution_count": 78,
   "metadata": {},
   "outputs": [
    {
     "data": {
      "text/plain": [
       "<AxesSubplot:xlabel='skewness_glucose', ylabel='Count'>"
      ]
     },
     "execution_count": 78,
     "metadata": {},
     "output_type": "execute_result"
    },
    {
     "data": {
      "image/png": "[encoded data removed]",
      "text/plain": [
       "<Figure size 432x288 with 1 Axes>"
      ]
     },
     "metadata": {
      "needs_background": "light"
     },
     "output_type": "display_data"
    }
   ],
   "source": [
    "sns.histplot(df1['skewness_glucose'])"
   ]
  },
  {
   "cell_type": "code",
   "execution_count": 71,
   "metadata": {},
   "outputs": [
    {
     "data": {
      "text/plain": [
       "<AxesSubplot:>"
      ]
     },
     "execution_count": 71,
     "metadata": {},
     "output_type": "execute_result"
    },
    {
     "data": {
      "image/png": "[encoded data removed]",
      "text/plain": [
       "<Figure size 432x288 with 1 Axes>"
      ]
     },
     "metadata": {
      "needs_background": "light"
     },
     "output_type": "display_data"
    }
   ],
   "source": [
    "df1['capital-gain'].hist()\n"
   ]
  },
  {
   "cell_type": "code",
   "execution_count": 70,
   "metadata": {},
   "outputs": [
    {
     "data": {
      "text/plain": [
       "<AxesSubplot:>"
      ]
     },
     "execution_count": 70,
     "metadata": {},
     "output_type": "execute_result"
    },
    {
     "data": {
      "image/png": "[encoded data removed]",
      "text/plain": [
       "<Figure size 432x288 with 1 Axes>"
      ]
     },
     "metadata": {
      "needs_background": "light"
     },
     "output_type": "display_data"
    }
   ],
   "source": [
    "df1['capital-loss'].hist()"
   ]
  },
  {
   "cell_type": "code",
   "execution_count": 73,
   "metadata": {},
   "outputs": [
    {
     "data": {
      "text/plain": [
       "<AxesSubplot:xlabel='hours-per-week'>"
      ]
     },
     "execution_count": 73,
     "metadata": {},
     "output_type": "execute_result"
    },
    {
     "data": {
      "image/png": "[encoded data removed]",
      "text/plain": [
       "<Figure size 432x288 with 1 Axes>"
      ]
     },
     "metadata": {
      "needs_background": "light"
     },
     "output_type": "display_data"
    }
   ],
   "source": [
    "sns.boxplot(data=df1, x=\"hours-per-week\")"
   ]
  },
  {
   "cell_type": "code",
   "execution_count": 76,
   "metadata": {},
   "outputs": [
    {
     "data": {
      "text/plain": [
       "<AxesSubplot:xlabel='mean_glucose', ylabel='Count'>"
      ]
     },
     "execution_count": 76,
     "metadata": {},
     "output_type": "execute_result"
    },
    {
     "data": {
      "image/png": "[encoded data removed]",
      "text/plain": [
       "<Figure size 432x288 with 1 Axes>"
      ]
     },
     "metadata": {
      "needs_background": "light"
     },
     "output_type": "display_data"
    }
   ],
   "source": [
    "sns.histplot(df1['mean_glucose'])"
   ]
  },
  {
   "cell_type": "code",
   "execution_count": 77,
   "metadata": {},
   "outputs": [
    {
     "data": {
      "text/plain": [
       "<AxesSubplot:xlabel='std_glucose', ylabel='Count'>"
      ]
     },
     "execution_count": 77,
     "metadata": {},
     "output_type": "execute_result"
    },
    {
     "data": {
      "image/png": "[encoded data removed]",
      "text/plain": [
       "<Figure size 432x288 with 1 Axes>"
      ]
     },
     "metadata": {
      "needs_background": "light"
     },
     "output_type": "display_data"
    }
   ],
   "source": [
    "sns.histplot(df1['std_glucose'])"
   ]
  },
  {
   "cell_type": "code",
   "execution_count": 75,
   "metadata": {},
   "outputs": [
    {
     "data": {
      "text/plain": [
       "<AxesSubplot:xlabel='kurtosis_glucose', ylabel='Count'>"
      ]
     },
     "execution_count": 75,
     "metadata": {},
     "output_type": "execute_result"
    },
    {
     "data": {
      "image/png": "[encoded data removed]",
      "text/plain": [
       "<Figure size 432x288 with 1 Axes>"
      ]
     },
     "metadata": {
      "needs_background": "light"
     },
     "output_type": "display_data"
    }
   ],
   "source": [
    "sns.histplot(df1['kurtosis_glucose'])"
   ]
  },
  {
   "cell_type": "code",
   "execution_count": 79,
   "metadata": {},
   "outputs": [
    {
     "data": {
      "text/plain": [
       "<AxesSubplot:xlabel='fnlwgt', ylabel='Count'>"
      ]
     },
     "execution_count": 79,
     "metadata": {},
     "output_type": "execute_result"
    },
    {
     "data": {
      "image/png": "[encoded data removed]",
      "text/plain": [
       "<Figure size 432x288 with 1 Axes>"
      ]
     },
     "metadata": {
      "needs_background": "light"
     },
     "output_type": "display_data"
    }
   ],
   "source": [
    "sns.histplot(df1['fnlwgt'])"
   ]
  },
  {
   "cell_type": "code",
   "execution_count": 74,
   "metadata": {},
   "outputs": [
    {
     "data": {
      "text/plain": [
       "<AxesSubplot:>"
      ]
     },
     "execution_count": 74,
     "metadata": {},
     "output_type": "execute_result"
    },
    {
     "data": {
      "image/png": "[encoded data removed]",
      "text/plain": [
       "<Figure size 432x288 with 1 Axes>"
      ]
     },
     "metadata": {
      "needs_background": "light"
     },
     "output_type": "display_data"
    }
   ],
   "source": [
    "df1['fnlwgt'].hist()"
   ]
  },
  {
   "cell_type": "markdown",
   "metadata": {},
   "source": [
    "## Párová analýza dát"
   ]
  },
  {
   "cell_type": "code",
   "execution_count": 6,
   "metadata": {},
   "outputs": [
    {
     "data": {
      "text/html": [
       "<div>\n",
       "<style scoped>\n",
       "    .dataframe tbody tr th:only-of-type {\n",
       "        vertical-align: middle;\n",
       "    }\n",
       "\n",
       "    .dataframe tbody tr th {\n",
       "        vertical-align: top;\n",
       "    }\n",
       "\n",
       "    .dataframe thead th {\n",
       "        text-align: right;\n",
       "    }\n",
       "</style>\n",
       "<table border=\"1\" class=\"dataframe\">\n",
       "  <thead>\n",
       "    <tr style=\"text-align: right;\">\n",
       "      <th></th>\n",
       "      <th>Unnamed: 0</th>\n",
       "      <th>education-num</th>\n",
       "      <th>skewness_glucose</th>\n",
       "      <th>mean_glucose</th>\n",
       "      <th>capital-gain</th>\n",
       "      <th>kurtosis_glucose</th>\n",
       "      <th>fnlwgt</th>\n",
       "      <th>class</th>\n",
       "      <th>std_glucose</th>\n",
       "      <th>hours-per-week</th>\n",
       "      <th>capital-loss</th>\n",
       "    </tr>\n",
       "  </thead>\n",
       "  <tbody>\n",
       "    <tr>\n",
       "      <th>Unnamed: 0</th>\n",
       "      <td>1.000000</td>\n",
       "      <td>0.011471</td>\n",
       "      <td>-0.028580</td>\n",
       "      <td>0.033854</td>\n",
       "      <td>-0.014550</td>\n",
       "      <td>-0.029149</td>\n",
       "      <td>0.025605</td>\n",
       "      <td>-0.023289</td>\n",
       "      <td>0.039336</td>\n",
       "      <td>-0.009369</td>\n",
       "      <td>-0.007694</td>\n",
       "    </tr>\n",
       "    <tr>\n",
       "      <th>education-num</th>\n",
       "      <td>0.011471</td>\n",
       "      <td>1.000000</td>\n",
       "      <td>0.032371</td>\n",
       "      <td>-0.031860</td>\n",
       "      <td>0.112220</td>\n",
       "      <td>0.032506</td>\n",
       "      <td>-0.030727</td>\n",
       "      <td>0.029418</td>\n",
       "      <td>-0.015107</td>\n",
       "      <td>0.155274</td>\n",
       "      <td>0.078087</td>\n",
       "    </tr>\n",
       "    <tr>\n",
       "      <th>skewness_glucose</th>\n",
       "      <td>-0.028580</td>\n",
       "      <td>0.032371</td>\n",
       "      <td>1.000000</td>\n",
       "      <td>-0.825601</td>\n",
       "      <td>-0.004101</td>\n",
       "      <td>0.962128</td>\n",
       "      <td>0.005018</td>\n",
       "      <td>0.683002</td>\n",
       "      <td>-0.667670</td>\n",
       "      <td>0.014927</td>\n",
       "      <td>0.002027</td>\n",
       "    </tr>\n",
       "    <tr>\n",
       "      <th>mean_glucose</th>\n",
       "      <td>0.033854</td>\n",
       "      <td>-0.031860</td>\n",
       "      <td>-0.825601</td>\n",
       "      <td>1.000000</td>\n",
       "      <td>-0.004203</td>\n",
       "      <td>-0.925940</td>\n",
       "      <td>-0.010201</td>\n",
       "      <td>-0.775335</td>\n",
       "      <td>0.643029</td>\n",
       "      <td>-0.021189</td>\n",
       "      <td>0.008544</td>\n",
       "    </tr>\n",
       "    <tr>\n",
       "      <th>capital-gain</th>\n",
       "      <td>-0.014550</td>\n",
       "      <td>0.112220</td>\n",
       "      <td>-0.004101</td>\n",
       "      <td>-0.004203</td>\n",
       "      <td>1.000000</td>\n",
       "      <td>-0.003094</td>\n",
       "      <td>-0.002610</td>\n",
       "      <td>-0.004868</td>\n",
       "      <td>-0.005955</td>\n",
       "      <td>0.074469</td>\n",
       "      <td>-0.028848</td>\n",
       "    </tr>\n",
       "    <tr>\n",
       "      <th>kurtosis_glucose</th>\n",
       "      <td>-0.029149</td>\n",
       "      <td>0.032506</td>\n",
       "      <td>0.962128</td>\n",
       "      <td>-0.925940</td>\n",
       "      <td>-0.003094</td>\n",
       "      <td>1.000000</td>\n",
       "      <td>0.010269</td>\n",
       "      <td>0.788995</td>\n",
       "      <td>-0.653904</td>\n",
       "      <td>0.016595</td>\n",
       "      <td>0.003059</td>\n",
       "    </tr>\n",
       "    <tr>\n",
       "      <th>fnlwgt</th>\n",
       "      <td>0.025605</td>\n",
       "      <td>-0.030727</td>\n",
       "      <td>0.005018</td>\n",
       "      <td>-0.010201</td>\n",
       "      <td>-0.002610</td>\n",
       "      <td>0.010269</td>\n",
       "      <td>1.000000</td>\n",
       "      <td>0.009251</td>\n",
       "      <td>-0.018510</td>\n",
       "      <td>-0.032616</td>\n",
       "      <td>-0.005985</td>\n",
       "    </tr>\n",
       "    <tr>\n",
       "      <th>class</th>\n",
       "      <td>-0.023289</td>\n",
       "      <td>0.029418</td>\n",
       "      <td>0.683002</td>\n",
       "      <td>-0.775335</td>\n",
       "      <td>-0.004868</td>\n",
       "      <td>0.788995</td>\n",
       "      <td>0.009251</td>\n",
       "      <td>1.000000</td>\n",
       "      <td>-0.502612</td>\n",
       "      <td>0.013677</td>\n",
       "      <td>0.010752</td>\n",
       "    </tr>\n",
       "    <tr>\n",
       "      <th>std_glucose</th>\n",
       "      <td>0.039336</td>\n",
       "      <td>-0.015107</td>\n",
       "      <td>-0.667670</td>\n",
       "      <td>0.643029</td>\n",
       "      <td>-0.005955</td>\n",
       "      <td>-0.653904</td>\n",
       "      <td>-0.018510</td>\n",
       "      <td>-0.502612</td>\n",
       "      <td>1.000000</td>\n",
       "      <td>-0.024282</td>\n",
       "      <td>0.024423</td>\n",
       "    </tr>\n",
       "    <tr>\n",
       "      <th>hours-per-week</th>\n",
       "      <td>-0.009369</td>\n",
       "      <td>0.155274</td>\n",
       "      <td>0.014927</td>\n",
       "      <td>-0.021189</td>\n",
       "      <td>0.074469</td>\n",
       "      <td>0.016595</td>\n",
       "      <td>-0.032616</td>\n",
       "      <td>0.013677</td>\n",
       "      <td>-0.024282</td>\n",
       "      <td>1.000000</td>\n",
       "      <td>0.071431</td>\n",
       "    </tr>\n",
       "    <tr>\n",
       "      <th>capital-loss</th>\n",
       "      <td>-0.007694</td>\n",
       "      <td>0.078087</td>\n",
       "      <td>0.002027</td>\n",
       "      <td>0.008544</td>\n",
       "      <td>-0.028848</td>\n",
       "      <td>0.003059</td>\n",
       "      <td>-0.005985</td>\n",
       "      <td>0.010752</td>\n",
       "      <td>0.024423</td>\n",
       "      <td>0.071431</td>\n",
       "      <td>1.000000</td>\n",
       "    </tr>\n",
       "  </tbody>\n",
       "</table>\n",
       "</div>"
      ],
      "text/plain": [
       "                  Unnamed: 0  education-num  skewness_glucose  mean_glucose  \\\n",
       "Unnamed: 0          1.000000       0.011471         -0.028580      0.033854   \n",
       "education-num       0.011471       1.000000          0.032371     -0.031860   \n",
       "skewness_glucose   -0.028580       0.032371          1.000000     -0.825601   \n",
       "mean_glucose        0.033854      -0.031860         -0.825601      1.000000   \n",
       "capital-gain       -0.014550       0.112220         -0.004101     -0.004203   \n",
       "kurtosis_glucose   -0.029149       0.032506          0.962128     -0.925940   \n",
       "fnlwgt              0.025605      -0.030727          0.005018     -0.010201   \n",
       "class              -0.023289       0.029418          0.683002     -0.775335   \n",
       "std_glucose         0.039336      -0.015107         -0.667670      0.643029   \n",
       "hours-per-week     -0.009369       0.155274          0.014927     -0.021189   \n",
       "capital-loss       -0.007694       0.078087          0.002027      0.008544   \n",
       "\n",
       "                  capital-gain  kurtosis_glucose    fnlwgt     class  \\\n",
       "Unnamed: 0           -0.014550         -0.029149  0.025605 -0.023289   \n",
       "education-num         0.112220          0.032506 -0.030727  0.029418   \n",
       "skewness_glucose     -0.004101          0.962128  0.005018  0.683002   \n",
       "mean_glucose         -0.004203         -0.925940 -0.010201 -0.775335   \n",
       "capital-gain          1.000000         -0.003094 -0.002610 -0.004868   \n",
       "kurtosis_glucose     -0.003094          1.000000  0.010269  0.788995   \n",
       "fnlwgt               -0.002610          0.010269  1.000000  0.009251   \n",
       "class                -0.004868          0.788995  0.009251  1.000000   \n",
       "std_glucose          -0.005955         -0.653904 -0.018510 -0.502612   \n",
       "hours-per-week        0.074469          0.016595 -0.032616  0.013677   \n",
       "capital-loss         -0.028848          0.003059 -0.005985  0.010752   \n",
       "\n",
       "                  std_glucose  hours-per-week  capital-loss  \n",
       "Unnamed: 0           0.039336       -0.009369     -0.007694  \n",
       "education-num       -0.015107        0.155274      0.078087  \n",
       "skewness_glucose    -0.667670        0.014927      0.002027  \n",
       "mean_glucose         0.643029       -0.021189      0.008544  \n",
       "capital-gain        -0.005955        0.074469     -0.028848  \n",
       "kurtosis_glucose    -0.653904        0.016595      0.003059  \n",
       "fnlwgt              -0.018510       -0.032616     -0.005985  \n",
       "class               -0.502612        0.013677      0.010752  \n",
       "std_glucose          1.000000       -0.024282      0.024423  \n",
       "hours-per-week      -0.024282        1.000000      0.071431  \n",
       "capital-loss         0.024423        0.071431      1.000000  "
      ]
     },
     "execution_count": 6,
     "metadata": {},
     "output_type": "execute_result"
    }
   ],
   "source": [
    "df1.corr()"
   ]
  },
  {
   "cell_type": "code",
   "execution_count": 7,
   "metadata": {},
   "outputs": [
    {
     "data": {
      "text/plain": [
       "<AxesSubplot:xlabel='skewness_glucose', ylabel='kurtosis_glucose'>"
      ]
     },
     "execution_count": 7,
     "metadata": {},
     "output_type": "execute_result"
    },
    {
     "data": {
      "image/png": "[encoded data removed]",
      "text/plain": [
       "<Figure size 432x288 with 1 Axes>"
      ]
     },
     "metadata": {
      "needs_background": "light"
     },
     "output_type": "display_data"
    }
   ],
   "source": [
    "# Podľa tabuľky sme zistili, že najvyššia korelácia je medzi skewness_glucose a kurtosis_glucose - 0.962. Tu ide o silnú\n",
    "# pozitívnu koreláciu.\n",
    "sns.scatterplot(data=df1, x='skewness_glucose', y='kurtosis_glucose')"
   ]
  },
  {
   "cell_type": "code",
   "execution_count": 16,
   "metadata": {},
   "outputs": [
    {
     "data": {
      "text/plain": [
       "<AxesSubplot:xlabel='mean_glucose', ylabel='kurtosis_glucose'>"
      ]
     },
     "execution_count": 16,
     "metadata": {},
     "output_type": "execute_result"
    },
    {
     "data": {
      "image/png": "[encoded data removed]",
      "text/plain": [
       "<Figure size 432x288 with 1 Axes>"
      ]
     },
     "metadata": {
      "needs_background": "light"
     },
     "output_type": "display_data"
    }
   ],
   "source": [
    "# Silná negatívna korelácia sa nachádza pri mean_glucose a kurtosis_glucose - -0.925.\n",
    "sns.regplot(x=\"mean_glucose\", y=\"kurtosis_glucose\", data=df1)"
   ]
  },
  {
   "cell_type": "code",
   "execution_count": 28,
   "metadata": {},
   "outputs": [
    {
     "data": {
      "text/plain": [
       "<AxesSubplot:xlabel='class', ylabel='kurtosis_glucose'>"
      ]
     },
     "execution_count": 28,
     "metadata": {},
     "output_type": "execute_result"
    },
    {
     "data": {
      "image/png": "[encoded data removed]",
      "text/plain": [
       "<Figure size 432x288 with 1 Axes>"
      ]
     },
     "metadata": {
      "needs_background": "light"
     },
     "output_type": "display_data"
    }
   ],
   "source": [
    "# Pri tejto dvojici atribútov napríklad môžeme vidieť, že ľudia s chorobou majú vyššiu hodnotou kurtosis_glucose.\n",
    "sns.boxplot(data=df1, x=\"class\", y=\"kurtosis_glucose\")"
   ]
  },
  {
   "cell_type": "code",
   "execution_count": 20,
   "metadata": {},
   "outputs": [
    {
     "data": {
      "text/plain": [
       "0.0    2950\n",
       "1.0    1018\n",
       "Name: class, dtype: int64"
      ]
     },
     "execution_count": 20,
     "metadata": {},
     "output_type": "execute_result"
    }
   ],
   "source": [
    "# Počty ľudí bez choroby a s chorobou.\n",
    "df1['class'].value_counts()"
   ]
  },
  {
   "cell_type": "code",
   "execution_count": 26,
   "metadata": {},
   "outputs": [
    {
     "data": {
      "text/plain": [
       "<AxesSubplot:xlabel='race'>"
      ]
     },
     "execution_count": 26,
     "metadata": {},
     "output_type": "execute_result"
    },
    {
     "data": {
      "image/png": "[encoded data removed]",
      "text/plain": [
       "<Figure size 432x288 with 2 Axes>"
      ]
     },
     "metadata": {
      "needs_background": "light"
     },
     "output_type": "display_data"
    }
   ],
   "source": [
    "# Heatmap, ktorá ukazuje, koľko ľudí a akej rasy má alebo nemá chorobu.\n",
    "disease_class = pd.crosstab(index=df1[\"class\"], \n",
    "                             columns=df1[\"race\"])\n",
    "disease_class.index= [\"without_disease\",\"with_disease\"]\n",
    "sns.heatmap(disease_class, annot=True, fmt=\"d\")"
   ]
  },
  {
   "cell_type": "markdown",
   "metadata": {},
   "source": [
    "## Formulácia a štatistické overenie hypotéz o dátach \n",
    "### 1. hypotéza\n",
    "**H0**: Pacienti s chorobou majú v priemere rovnakú hodnotu kurtosis_glucose ako pacienti bez danej choroby.<br>\n",
    "**HA**: Pacienti s chorobou majú v priemere väčšiu/menšiu hodnotu kurtosis_glucose ako pacienti bez danej choroby.<br>\n",
    "\n",
    "Na základe vizuálneho porovnania v predošlej časti, kde sme mali boxplot, ktorý opisoval práve túto situáciu, vidíme, že tam nejaký rozdiel je. Cheme overiť, či je tento rozdiel značný, tak neskôr to overíme štatistickým testom. Keďže ide o dve nezávislé skupiny, použijeme t-test alebo Mann-Whitenyho U-test. Najskôr musíme zistiť, či dáta pochádzajú z normálnych distribúcií."
   ]
  },
  {
   "cell_type": "code",
   "execution_count": 4,
   "metadata": {},
   "outputs": [],
   "source": [
    "# Najskôr zistíme hodnoty pre pacientov s chorobou.\n",
    "class1 = df1.loc[df1['class'] == 1.0, 'kurtosis_glucose']"
   ]
  },
  {
   "cell_type": "code",
   "execution_count": 15,
   "metadata": {},
   "outputs": [
    {
     "name": "stderr",
     "output_type": "stream",
     "text": [
      "c:\\users\\asus\\appdata\\local\\programs\\python\\python38\\lib\\site-packages\\seaborn\\distributions.py:2551: FutureWarning: `distplot` is a deprecated function and will be removed in a future version. Please adapt your code to use either `displot` (a figure-level function with similar flexibility) or `histplot` (an axes-level function for histograms).\n",
      "  warnings.warn(msg, FutureWarning)\n"
     ]
    },
    {
     "data": {
      "text/plain": [
       "<AxesSubplot:xlabel='kurtosis_glucose', ylabel='Density'>"
      ]
     },
     "execution_count": 15,
     "metadata": {},
     "output_type": "execute_result"
    },
    {
     "data": {
      "image/png": "[encoded data removed]",
      "text/plain": [
       "<Figure size 432x288 with 1 Axes>"
      ]
     },
     "metadata": {
      "needs_background": "light"
     },
     "output_type": "display_data"
    }
   ],
   "source": [
    "# Vykreslíme si histogram na zistenie normálnosti rozdelenie. Už podľa tohto grafu vidíme, že pravdepodobne nejde \n",
    "# o normálnu distribúciu.\n",
    "sns.distplot(class1)"
   ]
  },
  {
   "cell_type": "code",
   "execution_count": 6,
   "metadata": {},
   "outputs": [],
   "source": [
    "# Funkcia, ktorá nám slúži na identifikáciu vychýlených hodnôt. Ak sa vo vzorke nachádzajú nejaké vychýlené dáta, dáme ich preč.\n",
    "def identify_outliers(a):\n",
    "    lower = a.quantile(0.25) - 1.5 * stats.iqr(a)\n",
    "    upper = a.quantile(0.75) + 1.5 * stats.iqr(a)\n",
    "    \n",
    "    return a[(a > upper) | (a < lower)]"
   ]
  },
  {
   "cell_type": "code",
   "execution_count": 16,
   "metadata": {},
   "outputs": [
    {
     "data": {
      "text/plain": [
       "ShapiroResult(statistic=0.957494854927063, pvalue=0.00267603131942451)"
      ]
     },
     "execution_count": 16,
     "metadata": {},
     "output_type": "execute_result"
    }
   ],
   "source": [
    "import scipy.stats as stats\n",
    "\n",
    "# Pre zistenie normálnosti rozdelenia použijeme taktiež Shapiro-Wilkov test normálnosti. Použijeme vzorku 100 hodnôt.\n",
    "class1 = class1.dropna()\n",
    "class1_out = identify_outliers(class1)\n",
    "class1 = class1.drop(class1_out.index)\n",
    "\n",
    "stats.shapiro(class1[:100])"
   ]
  },
  {
   "cell_type": "markdown",
   "metadata": {},
   "source": [
    "Ak je p < 0.05, H0 zamietame - dáta pravdepodobne pochádzajú z iného ako normálneho rozdelenia.<br>\n",
    "Ak je p > 0.05, H0 nezamietame - dáta pravdepodobne pochádzajú z normálneho rozdelenia.\n",
    "\n",
    "Pri prvom teste nám vyšla hodnota p < 0.05, takže dáta pravdepodobne pochádzajú z iného ako normálneho rozdelenia."
   ]
  },
  {
   "cell_type": "code",
   "execution_count": 17,
   "metadata": {},
   "outputs": [],
   "source": [
    "# Použijeme rovnaký postup. Najskôr zistíme hodnoty pre pacientov bez choroby.\n",
    "class0 = df1.loc[df1['class'] == 0.0, 'kurtosis_glucose']"
   ]
  },
  {
   "cell_type": "code",
   "execution_count": 18,
   "metadata": {},
   "outputs": [
    {
     "name": "stderr",
     "output_type": "stream",
     "text": [
      "c:\\users\\asus\\appdata\\local\\programs\\python\\python38\\lib\\site-packages\\seaborn\\distributions.py:2551: FutureWarning: `distplot` is a deprecated function and will be removed in a future version. Please adapt your code to use either `displot` (a figure-level function with similar flexibility) or `histplot` (an axes-level function for histograms).\n",
      "  warnings.warn(msg, FutureWarning)\n"
     ]
    },
    {
     "data": {
      "text/plain": [
       "<AxesSubplot:xlabel='kurtosis_glucose', ylabel='Density'>"
      ]
     },
     "execution_count": 18,
     "metadata": {},
     "output_type": "execute_result"
    },
    {
     "data": {
      "image/png": "[encoded data removed]",
      "text/plain": [
       "<Figure size 432x288 with 1 Axes>"
      ]
     },
     "metadata": {
      "needs_background": "light"
     },
     "output_type": "display_data"
    }
   ],
   "source": [
    "# Vykreslíme si histogram. Tu to vyzerá, že by dáta mohli pochádzať z normálneho rozdelenia, no nachádza sa tu veľa\n",
    "# vychýlených hodnôt.\n",
    "sns.distplot(class0)"
   ]
  },
  {
   "cell_type": "code",
   "execution_count": 19,
   "metadata": {},
   "outputs": [
    {
     "data": {
      "text/plain": [
       "ShapiroResult(statistic=0.9858771562576294, pvalue=0.3666383624076843)"
      ]
     },
     "execution_count": 19,
     "metadata": {},
     "output_type": "execute_result"
    }
   ],
   "source": [
    "# Shapiro-Wilkov test - taktiež vzorka 100 hodnôt.\n",
    "class0 = class0.dropna()\n",
    "class0_out = identify_outliers(class0)\n",
    "class0 = class0.drop(class0_out.index)\n",
    "\n",
    "stats.shapiro(class0[:100])"
   ]
  },
  {
   "cell_type": "markdown",
   "metadata": {},
   "source": [
    "Tu máme hodnotu p > 0.05, takže tieto dáta pravdepodobne pochádzajú z normálneho rozdelenia. <br>\n",
    " \n",
    "Na základe výsledkov z testov teda vieme, že class1 nepochádza z normálneho rozdelenia a class0 áno - nebol splnený predpoklad pre t-test. Použijeme teda neparametrický test - Mann-Whitneyho U-test."
   ]
  },
  {
   "cell_type": "code",
   "execution_count": 23,
   "metadata": {},
   "outputs": [
    {
     "data": {
      "text/plain": [
       "MannwhitneyuResult(statistic=334.0, pvalue=2.0994785970800087e-30)"
      ]
     },
     "execution_count": 23,
     "metadata": {},
     "output_type": "execute_result"
    }
   ],
   "source": [
    "# Mann-Whitneyho U-test. Znova použijeme vzorku 100 hodnôt.\n",
    "stats.mannwhitneyu(class1[:100], class0[:100])"
   ]
  },
  {
   "cell_type": "markdown",
   "metadata": {},
   "source": [
    "Podľa testu vidíme, že nám vyšla p < 0.001, našu **H0** teda zamietame v prospech **HA**."
   ]
  },
  {
   "cell_type": "markdown",
   "metadata": {},
   "source": [
    "### 2. hypotéza\n",
    "**H0**: Pacienti bez choroby majú v priemere rovnakú hodnotu mean_glucose ako pacienti s danou chorobou.<br>\n",
    "**HA**: Pacienti bez choroby majú v priemere väčšiu/menšiu hodnotu mean_glucose ako pacienti s danou chorobou.<br>\n",
    "\n",
    "Zvolíme úplne rovnaký postup ako pri 1. hypotéze."
   ]
  },
  {
   "cell_type": "code",
   "execution_count": 42,
   "metadata": {},
   "outputs": [
    {
     "data": {
      "text/plain": [
       "<AxesSubplot:xlabel='class', ylabel='mean_glucose'>"
      ]
     },
     "execution_count": 42,
     "metadata": {},
     "output_type": "execute_result"
    },
    {
     "data": {
      "image/png": "[encoded data removed]",
      "text/plain": [
       "<Figure size 432x288 with 1 Axes>"
      ]
     },
     "metadata": {
      "needs_background": "light"
     },
     "output_type": "display_data"
    }
   ],
   "source": [
    "# Vizualizácia rozdielu mean_glucose pri pacientoch s chorobou a bez choroby.\n",
    "sns.boxplot(data=df1, x=\"class\", y=\"mean_glucose\")"
   ]
  },
  {
   "cell_type": "code",
   "execution_count": 24,
   "metadata": {},
   "outputs": [],
   "source": [
    "# Hodnoty pacientov bez choroby.\n",
    "class0_m = df1.loc[df1['class'] == 0.0, 'mean_glucose']"
   ]
  },
  {
   "cell_type": "code",
   "execution_count": 27,
   "metadata": {},
   "outputs": [
    {
     "name": "stderr",
     "output_type": "stream",
     "text": [
      "c:\\users\\asus\\appdata\\local\\programs\\python\\python38\\lib\\site-packages\\seaborn\\distributions.py:2551: FutureWarning: `distplot` is a deprecated function and will be removed in a future version. Please adapt your code to use either `displot` (a figure-level function with similar flexibility) or `histplot` (an axes-level function for histograms).\n",
      "  warnings.warn(msg, FutureWarning)\n"
     ]
    },
    {
     "data": {
      "text/plain": [
       "<AxesSubplot:xlabel='mean_glucose', ylabel='Density'>"
      ]
     },
     "execution_count": 27,
     "metadata": {},
     "output_type": "execute_result"
    },
    {
     "data": {
      "image/png": "[encoded data removed]",
      "text/plain": [
       "<Figure size 432x288 with 1 Axes>"
      ]
     },
     "metadata": {
      "needs_background": "light"
     },
     "output_type": "display_data"
    }
   ],
   "source": [
    "# Histogram - vidíme, že pravdepodobne dáta pochádzajú z normálneho rozdelenia.\n",
    "sns.distplot(class0_m)"
   ]
  },
  {
   "cell_type": "code",
   "execution_count": 28,
   "metadata": {},
   "outputs": [
    {
     "data": {
      "text/plain": [
       "ShapiroResult(statistic=0.982296347618103, pvalue=0.19987468421459198)"
      ]
     },
     "execution_count": 28,
     "metadata": {},
     "output_type": "execute_result"
    }
   ],
   "source": [
    "# Shapiro-Wilkov test. Znova použijeme vzorku 100 hodnôt.\n",
    "class0_m = class0_m.dropna()\n",
    "class0_m_out = identify_outliers(class0_m)\n",
    "class0_m = class0_m.drop(class0_m_out.index)\n",
    "\n",
    "stats.shapiro(class0_m[:100])"
   ]
  },
  {
   "cell_type": "markdown",
   "metadata": {},
   "source": [
    "Máme p > 0.05, takže H0 nezamietame - dáta pravdepodobne pochádzajú z normálneho rozdelenia."
   ]
  },
  {
   "cell_type": "code",
   "execution_count": 29,
   "metadata": {},
   "outputs": [],
   "source": [
    "# Hodnoty pacientov s chorobou\n",
    "class1_m = df1.loc[df1['class'] == 1.0, 'mean_glucose']"
   ]
  },
  {
   "cell_type": "code",
   "execution_count": 59,
   "metadata": {},
   "outputs": [
    {
     "name": "stderr",
     "output_type": "stream",
     "text": [
      "c:\\users\\asus\\appdata\\local\\programs\\python\\python38\\lib\\site-packages\\seaborn\\distributions.py:2551: FutureWarning: `distplot` is a deprecated function and will be removed in a future version. Please adapt your code to use either `displot` (a figure-level function with similar flexibility) or `histplot` (an axes-level function for histograms).\n",
      "  warnings.warn(msg, FutureWarning)\n"
     ]
    },
    {
     "data": {
      "text/plain": [
       "<AxesSubplot:xlabel='mean_glucose', ylabel='Density'>"
      ]
     },
     "execution_count": 59,
     "metadata": {},
     "output_type": "execute_result"
    },
    {
     "data": {
      "image/png": "[encoded data removed]",
      "text/plain": [
       "<Figure size 432x288 with 1 Axes>"
      ]
     },
     "metadata": {
      "needs_background": "light"
     },
     "output_type": "display_data"
    }
   ],
   "source": [
    "# Histogram pre pacientov s chorobou - podľa krivky vidíme, že pravdepodobne nepôjde o normálne rozdelenie.\n",
    "sns.distplot(class1_m)"
   ]
  },
  {
   "cell_type": "code",
   "execution_count": 30,
   "metadata": {},
   "outputs": [
    {
     "data": {
      "text/plain": [
       "ShapiroResult(statistic=0.956812858581543, pvalue=0.0023985295556485653)"
      ]
     },
     "execution_count": 30,
     "metadata": {},
     "output_type": "execute_result"
    }
   ],
   "source": [
    "# Shapiro-Wilkov test - vzorka 100 hodnôt.\n",
    "class1_m = class1_m.dropna()\n",
    "class1_m_out = identify_outliers(class1_m)\n",
    "class1_m = class1_m.drop(class1_m_out.index)\n",
    "\n",
    "stats.shapiro(class1_m[:100])"
   ]
  },
  {
   "cell_type": "markdown",
   "metadata": {},
   "source": [
    "Tu podľa testu vidíme, že p < 0.05, takže H0 zamietame a dáta pravdepodobne nepochádzajú z normálneho rozdelenia. <br>\n",
    "Znova teda nebol splnený predpoklad pre t-test. Ako pri prvej hypotéze, volíme Mann-Whitneyho U-test."
   ]
  },
  {
   "cell_type": "code",
   "execution_count": 32,
   "metadata": {},
   "outputs": [
    {
     "data": {
      "text/plain": [
       "MannwhitneyuResult(statistic=535.0, pvalue=5.2479108633825635e-28)"
      ]
     },
     "execution_count": 32,
     "metadata": {},
     "output_type": "execute_result"
    }
   ],
   "source": [
    "# Mann-Whitneyho test so vzorkami 100 hodnôť.\n",
    "stats.mannwhitneyu(class0_m[:100], class1_m[:100])"
   ]
  },
  {
   "cell_type": "markdown",
   "metadata": {},
   "source": [
    "Rovnako ako pri 1. hypotéze, p < 0.001, takže našu **H0** zamietame v prospech **HA**."
   ]
  }
 ],
 "metadata": {
  "kernelspec": {
   "display_name": "Python 3",
   "language": "python",
   "name": "python3"
  },
  "language_info": {
   "codemirror_mode": {
    "name": "ipython",
    "version": 3
   },
   "file_extension": ".py",
   "mimetype": "text/x-python",
   "name": "python",
   "nbconvert_exporter": "python",
   "pygments_lexer": "ipython3",
   "version": "3.7.3"
  }
 },
 "nbformat": 4,
 "nbformat_minor": 4
}
